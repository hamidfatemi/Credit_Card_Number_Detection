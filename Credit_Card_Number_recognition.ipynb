{
 "cells": [
  {
   "cell_type": "markdown",
   "metadata": {},
   "source": [
    "# Resizing collected images to 200*200"
   ]
  },
  {
   "cell_type": "code",
   "execution_count": 2,
   "metadata": {},
   "outputs": [],
   "source": [
    "import os\n",
    "import tensorflow as tf\n",
    "import matplotlib.pyplot as plt\n",
    "width = 200\n",
    "height = 200\n",
    "dim = (width, height)\n",
    "\n",
    "path=\"C:/IUBH/Books/Master_Thesis/ThesisProject/temp/\"\n",
    "for img in os.listdir(path):\n",
    "    pic = cv2.imread(os.path.join(path,img))\n",
    "    h,w,c=pic.shape\n",
    "    image_name=img.split(\".\")[0]\n",
    "    rgb_image = cv2.cvtColor(pic, cv2.COLOR_BGR2RGB)\n",
    "    \n",
    "    # resize image\n",
    "    resized = cv2.resize(rgb_image, dim, interpolation = cv2.INTER_AREA)\n",
    "    image = tf.expand_dims(resized, 0)\n",
    "    plt.imsave(image_name +\".jpg\",resized)\n",
    "   "
   ]
  },
  {
   "cell_type": "markdown",
   "metadata": {},
   "source": [
    "# Create two folders for holding test & train digits image samples"
   ]
  },
  {
   "cell_type": "code",
   "execution_count": 14,
   "metadata": {},
   "outputs": [
    {
     "name": "stdout",
     "output_type": "stream",
     "text": [
      "./credit_card/train/0\n",
      "./credit_card/train/1\n",
      "./credit_card/train/2\n",
      "./credit_card/train/3\n",
      "./credit_card/train/4\n",
      "./credit_card/train/5\n",
      "./credit_card/train/6\n",
      "./credit_card/train/7\n",
      "./credit_card/train/8\n",
      "./credit_card/train/9\n",
      "./credit_card/test/0\n",
      "./credit_card/test/1\n",
      "./credit_card/test/2\n",
      "./credit_card/test/3\n",
      "./credit_card/test/4\n",
      "./credit_card/test/5\n",
      "./credit_card/test/6\n",
      "./credit_card/test/7\n",
      "./credit_card/test/8\n",
      "./credit_card/test/9\n"
     ]
    }
   ],
   "source": [
    "#Create our dataset folders\n",
    "\n",
    "import os\n",
    "\n",
    "def makedir(directory):\n",
    "    \"\"\"Creates a new directory if it does not exist\"\"\"\n",
    "    if not os.path.exists(directory):\n",
    "        os.makedirs(directory)\n",
    "        return None, 0\n",
    "    \n",
    "for i in range(0,10):\n",
    "    directory_name = \"./credit_card/train/\"+str(i)\n",
    "    print(directory_name)\n",
    "    makedir(directory_name) \n",
    "\n",
    "for i in range(0,10):\n",
    "    directory_name = \"./credit_card/test/\"+str(i)\n",
    "    print(directory_name)\n",
    "    makedir(directory_name)"
   ]
  },
  {
   "cell_type": "markdown",
   "metadata": {},
   "source": [
    "# Image Augmentation Functions"
   ]
  },
  {
   "cell_type": "code",
   "execution_count": 1,
   "metadata": {},
   "outputs": [],
   "source": [
    "import cv2\n",
    "import numpy as np \n",
    "import random\n",
    "import cv2\n",
    "from scipy.ndimage import convolve\n",
    "\n",
    "def DigitAugmentation(frame, dim = 32):\n",
    "    \"\"\"Randomly alters the image using noise, pixelation and streching image functions\"\"\"\n",
    "    frame = cv2.resize(frame, None, fx=2, fy=2, interpolation = cv2.INTER_CUBIC)\n",
    "    frame = cv2.cvtColor(frame, cv2.COLOR_GRAY2RGB)\n",
    "    random_num = np.random.randint(0,9)\n",
    "\n",
    "    if (random_num % 2 == 0):\n",
    "        frame = add_noise(frame)\n",
    "    if(random_num % 3 == 0):\n",
    "        frame = pixelate(frame)\n",
    "    if(random_num % 2 == 0):\n",
    "        frame = stretch(frame)\n",
    "    frame = cv2.resize(frame, (dim, dim), interpolation = cv2.INTER_AREA)\n",
    "\n",
    "    return frame \n",
    "\n",
    "def add_noise(image):\n",
    "    \"\"\"Addings noise to image\"\"\"\n",
    "    prob = random.uniform(0.01, 0.05)\n",
    "    rnd = np.random.rand(image.shape[0], image.shape[1])\n",
    "    noisy = image.copy()\n",
    "    noisy[rnd < prob] = 0\n",
    "    noisy[rnd > 1 - prob] = 1\n",
    "    return noisy\n",
    "\n",
    "def pixelate(image):\n",
    "    \"Pixelates an image by reducing the resolution then upscaling it\"\n",
    "    dim = np.random.randint(8,12)\n",
    "    image = cv2.resize(image, (dim, dim), interpolation = cv2.INTER_AREA)\n",
    "    image = cv2.resize(image, (16, 16), interpolation = cv2.INTER_AREA)\n",
    "    return image\n",
    "\n",
    "def stretch(image):\n",
    "    \"Randomly applies different degrees of stretch to image\"\n",
    "    ran = np.random.randint(0,3)*2\n",
    "    if np.random.randint(0,2) == 0:\n",
    "        frame = cv2.resize(image, (32, ran+32), interpolation = cv2.INTER_AREA)\n",
    "        return frame[int(ran/2):int(ran+32)-int(ran/2), 0:32]\n",
    "    else:\n",
    "        frame = cv2.resize(image, (ran+32, 32), interpolation = cv2.INTER_AREA)\n",
    "        return frame[0:32, int(ran/2):int(ran+32)-int(ran/2)]\n",
    "    \n",
    "def pre_process(image, inv = False):\n",
    "    \"\"\"Uses OTSU binarization on an image\"\"\"\n",
    "    try:\n",
    "        gray_image = cv2.cvtColor(image, cv2.COLOR_BGR2GRAY)\n",
    "    except:\n",
    "        gray_image = image\n",
    "        pass\n",
    "    \n",
    "    if inv == False:\n",
    "        _, th2 = cv2.threshold(gray_image, 0, 255, cv2.THRESH_BINARY + cv2.THRESH_OTSU)\n",
    "    else:\n",
    "        _, th2 = cv2.threshold(gray_image, 0, 255, cv2.THRESH_BINARY_INV + cv2.THRESH_OTSU)\n",
    "    resized = cv2.resize(th2, (32,32), interpolation = cv2.INTER_AREA)\n",
    "    return resized"
   ]
  },
  {
   "cell_type": "markdown",
   "metadata": {},
   "source": [
    "## Creating our Training Data (2000 variations of first font type)"
   ]
  },
  {
   "cell_type": "code",
   "execution_count": 26,
   "metadata": {},
   "outputs": [
    {
     "name": "stdout",
     "output_type": "stream",
     "text": [
      "Augmenting Digit -  0\n",
      "Augmenting Digit -  1\n",
      "Augmenting Digit -  2\n",
      "Augmenting Digit -  3\n",
      "Augmenting Digit -  4\n",
      "Augmenting Digit -  5\n",
      "Augmenting Digit -  6\n",
      "Augmenting Digit -  7\n",
      "Augmenting Digit -  8\n",
      "Augmenting Digit -  9\n"
     ]
    }
   ],
   "source": [
    "# Creating 2000 Images for each digit in creditcard_digits1 - TRAINING DATA\n",
    "\n",
    "# Load our first image\n",
    "cc1 = cv2.imread('creditcard_digits1.jpg', 0)\n",
    "\n",
    "_, th2 = cv2.threshold(cc1, 0, 255, cv2.THRESH_BINARY_INV + cv2.THRESH_OTSU)\n",
    "cv2.imshow(\"cc1\", th2)\n",
    "cv2.imshow(\"creditcard_digits1\", cc1)\n",
    "cv2.waitKey(0)\n",
    "cv2.destroyAllWindows()\n",
    "\n",
    "region = [(2, 19), (50, 72)]\n",
    "\n",
    "top_left_y = region[0][1]\n",
    "bottom_right_y = region[1][1]\n",
    "top_left_x = region[0][0]\n",
    "bottom_right_x = region[1][0]\n",
    "\n",
    "for i in range(0,10):   \n",
    "    # We jump the next digit each time we loop\n",
    "    if i > 0:\n",
    "        top_left_x = top_left_x + 59\n",
    "        bottom_right_x = bottom_right_x + 59\n",
    "\n",
    "    roi = cc1[top_left_y:bottom_right_y, top_left_x:bottom_right_x]\n",
    "    print(\"Augmenting Digit - \", str(i))\n",
    "    # We create 200 versions of each image for our dataset\n",
    "    for j in range(0,2000):\n",
    "        roi2 = DigitAugmentation(roi)\n",
    "        roi_otsu = pre_process(roi2, inv = True)\n",
    "        cv2.imwrite(\"./credit_card/train/\"+str(i)+\"./_1_\"+str(j)+\".jpg\", roi_otsu)\n",
    "cv2.destroyAllWindows()"
   ]
  },
  {
   "cell_type": "markdown",
   "metadata": {},
   "source": [
    "## Creating our Training Data (2000 variations of second font type)"
   ]
  },
  {
   "cell_type": "code",
   "execution_count": 27,
   "metadata": {},
   "outputs": [
    {
     "name": "stdout",
     "output_type": "stream",
     "text": [
      "Augmenting Digit -  0\n",
      "Augmenting Digit -  1\n",
      "Augmenting Digit -  2\n",
      "Augmenting Digit -  3\n",
      "Augmenting Digit -  4\n",
      "Augmenting Digit -  5\n",
      "Augmenting Digit -  6\n",
      "Augmenting Digit -  7\n",
      "Augmenting Digit -  8\n",
      "Augmenting Digit -  9\n"
     ]
    }
   ],
   "source": [
    "# Creating 2000 Images for each digit in creditcard_digits2 - TRAINING DATA\n",
    "\n",
    "cc1 = cv2.imread('creditcard_digits2.jpg', 0)\n",
    "_, th2 = cv2.threshold(cc1, 0, 255, cv2.THRESH_BINARY_INV + cv2.THRESH_OTSU)\n",
    "cv2.imshow(\"cc1\", th2)\n",
    "cv2.waitKey(0)\n",
    "cv2.destroyAllWindows()\n",
    "\n",
    "region = [(0, 0), (35, 48)]\n",
    "\n",
    "top_left_y = region[0][1]\n",
    "bottom_right_y = region[1][1]\n",
    "top_left_x = region[0][0]\n",
    "bottom_right_x = region[1][0]\n",
    "\n",
    "for i in range(0,10):   \n",
    "    if i > 0:\n",
    "        # We jump the next digit each time we loop\n",
    "        top_left_x = top_left_x + 35\n",
    "        bottom_right_x = bottom_right_x + 35\n",
    "\n",
    "    roi = cc1[top_left_y:bottom_right_y, top_left_x:bottom_right_x]\n",
    "    print(\"Augmenting Digit - \", str(i))\n",
    "    # We create 200 versions of each image for our dataset\n",
    "    for j in range(0,2000):\n",
    "        roi2 = DigitAugmentation(roi)\n",
    "        roi_otsu = pre_process(roi2, inv = False)\n",
    "        cv2.imwrite(\"./credit_card/train/\"+str(i)+\"./_2_\"+str(j)+\".jpg\", roi_otsu)\n",
    "        #cv2.imshow(\"otsu\", roi_otsu)\n",
    "        #print(\"-\")\n",
    "        #cv2.waitKey(0)\n",
    "cv2.destroyAllWindows()"
   ]
  },
  {
   "cell_type": "markdown",
   "metadata": {},
   "source": [
    "## Creating our Training Data (2000 variations of third font type)"
   ]
  },
  {
   "cell_type": "code",
   "execution_count": 84,
   "metadata": {},
   "outputs": [
    {
     "name": "stdout",
     "output_type": "stream",
     "text": [
      "Augmenting Digit -  0\n",
      "Augmenting Digit -  1\n",
      "Augmenting Digit -  2\n",
      "Augmenting Digit -  3\n",
      "Augmenting Digit -  4\n",
      "Augmenting Digit -  5\n",
      "Augmenting Digit -  6\n",
      "Augmenting Digit -  7\n",
      "Augmenting Digit -  8\n",
      "Augmenting Digit -  9\n"
     ]
    }
   ],
   "source": [
    "# Creating 2000 Images for each digit in creditcard_digits3 - TRAINING DATA\n",
    "\n",
    "# Load our first image\n",
    "cc1 = cv2.imread('creditcard_digits3.jpg', 0)\n",
    "\n",
    "_, th2 = cv2.threshold(cc1, 0, 255, cv2.THRESH_BINARY_INV + cv2.THRESH_OTSU)\n",
    "cv2.imshow(\"cc1\", th2)\n",
    "cv2.imshow(\"creditcard_digits3\", cc1)\n",
    "cv2.waitKey(0)\n",
    "cv2.destroyAllWindows()\n",
    "\n",
    "region = [(8, 2), (62, 82)]\n",
    "\n",
    "top_left_y = region[0][1]\n",
    "bottom_right_y = region[1][1]\n",
    "top_left_x = region[0][0]\n",
    "bottom_right_x = region[1][0]\n",
    "\n",
    "for i in range(0,10):   \n",
    "    # We jump the next digit each time we loop\n",
    "    if 0<i<5:\n",
    "        top_left_x = top_left_x + 58\n",
    "        bottom_right_x = bottom_right_x + 58\n",
    "    elif i==5:\n",
    "        top_left_x = top_left_x + 66\n",
    "        bottom_right_x = bottom_right_x + 66\n",
    "    elif i>5:    \n",
    "        top_left_x = top_left_x + 55\n",
    "        bottom_right_x = bottom_right_x + 55\n",
    "\n",
    "    roi = cc1[top_left_y:bottom_right_y, top_left_x:bottom_right_x]\n",
    "    print(\"Augmenting Digit - \", str(i))\n",
    "    # We create 200 versions of each image for our dataset\n",
    "    for j in range(0,2000):\n",
    "        roi2 = DigitAugmentation(roi)\n",
    "        roi_otsu = pre_process(roi2, inv = True)\n",
    "        cv2.imwrite(\"./credit_card/train/\"+str(i)+\"./_3_\"+str(j)+\".jpg\", roi_otsu)\n",
    "cv2.destroyAllWindows()"
   ]
  },
  {
   "cell_type": "markdown",
   "metadata": {},
   "source": [
    "## Creating our Training Data (2000 variations of forth font type)"
   ]
  },
  {
   "cell_type": "code",
   "execution_count": 88,
   "metadata": {},
   "outputs": [
    {
     "name": "stdout",
     "output_type": "stream",
     "text": [
      "Augmenting Digit -  0\n",
      "Augmenting Digit -  1\n",
      "Augmenting Digit -  2\n",
      "Augmenting Digit -  3\n",
      "Augmenting Digit -  4\n",
      "Augmenting Digit -  5\n",
      "Augmenting Digit -  6\n",
      "Augmenting Digit -  7\n",
      "Augmenting Digit -  8\n",
      "Augmenting Digit -  9\n"
     ]
    }
   ],
   "source": [
    "# Creating 2000 Images for each digit in creditcard_digits4 - TRAINING DATA\n",
    "\n",
    "# Load our first image\n",
    "cc1 = cv2.imread('creditcard_digits4.jpg', 0)\n",
    "\n",
    "_, th2 = cv2.threshold(cc1, 0, 255, cv2.THRESH_BINARY_INV + cv2.THRESH_OTSU)\n",
    "cv2.imshow(\"cc1\", th2)\n",
    "cv2.imshow(\"creditcard_digits4\", cc1)\n",
    "cv2.waitKey(0)\n",
    "cv2.destroyAllWindows()\n",
    "\n",
    "region = [(12, 2), (66, 88)]\n",
    "\n",
    "top_left_y = region[0][1]\n",
    "bottom_right_y = region[1][1]\n",
    "top_left_x = region[0][0]\n",
    "bottom_right_x = region[1][0]\n",
    "\n",
    "for i in range(0,10):   \n",
    "    # We jump the next digit each time we loop\n",
    "    if i > 0:\n",
    "        top_left_x = top_left_x + 57\n",
    "        bottom_right_x = bottom_right_x + 57\n",
    "\n",
    "\n",
    "    roi = cc1[top_left_y:bottom_right_y, top_left_x:bottom_right_x]\n",
    "    print(\"Augmenting Digit - \", str(i))\n",
    "    # We create 200 versions of each image for our dataset\n",
    "    for j in range(0,2000):\n",
    "        roi2 = DigitAugmentation(roi)\n",
    "        roi_otsu = pre_process(roi2, inv = True)\n",
    "        cv2.imwrite(\"./credit_card/train/\"+str(i)+\"./_4_\"+str(j)+\".jpg\", roi_otsu)\n",
    "cv2.destroyAllWindows()"
   ]
  },
  {
   "cell_type": "markdown",
   "metadata": {},
   "source": [
    "## Creating our Training Data (2000 variations of fifth font type)"
   ]
  },
  {
   "cell_type": "code",
   "execution_count": 94,
   "metadata": {},
   "outputs": [
    {
     "name": "stdout",
     "output_type": "stream",
     "text": [
      "Augmenting Digit -  0\n",
      "Augmenting Digit -  1\n",
      "Augmenting Digit -  2\n",
      "Augmenting Digit -  3\n",
      "Augmenting Digit -  4\n",
      "Augmenting Digit -  5\n",
      "Augmenting Digit -  6\n",
      "Augmenting Digit -  7\n",
      "Augmenting Digit -  8\n",
      "Augmenting Digit -  9\n"
     ]
    }
   ],
   "source": [
    "# Creating 2000 Images for each digit in creditcard_digits5 - TRAINING DATA\n",
    "\n",
    "# Load our first image\n",
    "cc1 = cv2.imread('creditcard_digits5.jpg', 0)\n",
    "\n",
    "_, th2 = cv2.threshold(cc1, 0, 255, cv2.THRESH_BINARY_INV + cv2.THRESH_OTSU)\n",
    "cv2.imshow(\"cc1\", th2)\n",
    "cv2.imshow(\"creditcard_digits5\", cc1)\n",
    "cv2.waitKey(0)\n",
    "cv2.destroyAllWindows()\n",
    "\n",
    "region = [(4, 2), (64, 88)]\n",
    "\n",
    "top_left_y = region[0][1]\n",
    "bottom_right_y = region[1][1]\n",
    "top_left_x = region[0][0]\n",
    "bottom_right_x = region[1][0]\n",
    "\n",
    "for i in range(0,10):   \n",
    "    # We jump the next digit each time we loop\n",
    "    if i > 0:\n",
    "        top_left_x = top_left_x + 58\n",
    "        bottom_right_x = bottom_right_x + 58\n",
    "\n",
    "\n",
    "    roi = cc1[top_left_y:bottom_right_y, top_left_x:bottom_right_x]\n",
    "    print(\"Augmenting Digit - \", str(i))\n",
    "    # We create 200 versions of each image for our dataset\n",
    "    for j in range(0,2000):\n",
    "        roi2 = DigitAugmentation(roi)\n",
    "        roi_otsu = pre_process(roi2, inv = True)\n",
    "        cv2.imwrite(\"./credit_card/train/\"+str(i)+\"./_5_\"+str(j)+\".jpg\", roi_otsu)\n",
    "cv2.destroyAllWindows()"
   ]
  },
  {
   "cell_type": "markdown",
   "metadata": {},
   "source": [
    "## Creating our Test Data (2000 variations of first font type)"
   ]
  },
  {
   "cell_type": "code",
   "execution_count": 3,
   "metadata": {},
   "outputs": [
    {
     "name": "stdout",
     "output_type": "stream",
     "text": [
      "Augmenting Digit -  0\n",
      "Augmenting Digit -  1\n",
      "Augmenting Digit -  2\n",
      "Augmenting Digit -  3\n",
      "Augmenting Digit -  4\n",
      "Augmenting Digit -  5\n",
      "Augmenting Digit -  6\n",
      "Augmenting Digit -  7\n",
      "Augmenting Digit -  8\n",
      "Augmenting Digit -  9\n"
     ]
    }
   ],
   "source": [
    "# Creating 2000 Images for each digit in creditcard_digits1 - TEST DATA\n",
    "\n",
    "# Load our first image\n",
    "cc1 = cv2.imread('creditcard_digits1.jpg', 0)\n",
    "\n",
    "_, th2 = cv2.threshold(cc1, 0, 255, cv2.THRESH_BINARY_INV + cv2.THRESH_OTSU)\n",
    "cv2.imshow(\"cc1\", th2)\n",
    "cv2.imshow(\"creditcard_digits1\", cc1)\n",
    "cv2.waitKey(0)\n",
    "cv2.destroyAllWindows()\n",
    "\n",
    "region = [(2, 19), (50, 72)]\n",
    "\n",
    "top_left_y = region[0][1]\n",
    "bottom_right_y = region[1][1]\n",
    "top_left_x = region[0][0]\n",
    "bottom_right_x = region[1][0]\n",
    "\n",
    "for i in range(0,10):   \n",
    "    # We jump the next digit each time we loop\n",
    "    if i > 0:\n",
    "        top_left_x = top_left_x + 59\n",
    "        bottom_right_x = bottom_right_x + 59\n",
    "\n",
    "    roi = cc1[top_left_y:bottom_right_y, top_left_x:bottom_right_x]\n",
    "    print(\"Augmenting Digit - \", str(i))\n",
    "    # We create 200 versions of each image for our dataset\n",
    "    for j in range(0,2000):\n",
    "        roi2 = DigitAugmentation(roi)\n",
    "        roi_otsu = pre_process(roi2, inv = True)\n",
    "        cv2.imwrite(\"./credit_card/test/\"+str(i)+\"./_1_\"+str(j)+\".jpg\", roi_otsu)\n",
    "cv2.destroyAllWindows()"
   ]
  },
  {
   "cell_type": "markdown",
   "metadata": {},
   "source": [
    "## Creating our Test Data (2000 variations of second font type)"
   ]
  },
  {
   "cell_type": "code",
   "execution_count": 4,
   "metadata": {},
   "outputs": [
    {
     "name": "stdout",
     "output_type": "stream",
     "text": [
      "Augmenting Digit -  0\n",
      "Augmenting Digit -  1\n",
      "Augmenting Digit -  2\n",
      "Augmenting Digit -  3\n",
      "Augmenting Digit -  4\n",
      "Augmenting Digit -  5\n",
      "Augmenting Digit -  6\n",
      "Augmenting Digit -  7\n",
      "Augmenting Digit -  8\n",
      "Augmenting Digit -  9\n"
     ]
    }
   ],
   "source": [
    "# Creating 2000 Images for each digit in creditcard_digits2 - TEST DATA\n",
    "\n",
    "cc1 = cv2.imread('creditcard_digits2.jpg', 0)\n",
    "_, th2 = cv2.threshold(cc1, 0, 255, cv2.THRESH_BINARY_INV + cv2.THRESH_OTSU)\n",
    "cv2.imshow(\"cc1\", th2)\n",
    "cv2.waitKey(0)\n",
    "cv2.destroyAllWindows()\n",
    "\n",
    "region = [(0, 0), (35, 48)]\n",
    "\n",
    "top_left_y = region[0][1]\n",
    "bottom_right_y = region[1][1]\n",
    "top_left_x = region[0][0]\n",
    "bottom_right_x = region[1][0]\n",
    "\n",
    "for i in range(0,10):   \n",
    "    if i > 0:\n",
    "        # We jump the next digit each time we loop\n",
    "        top_left_x = top_left_x + 35\n",
    "        bottom_right_x = bottom_right_x + 35\n",
    "\n",
    "    roi = cc1[top_left_y:bottom_right_y, top_left_x:bottom_right_x]\n",
    "    print(\"Augmenting Digit - \", str(i))\n",
    "    # We create 200 versions of each image for our dataset\n",
    "    for j in range(0,2000):\n",
    "        roi2 = DigitAugmentation(roi)\n",
    "        roi_otsu = pre_process(roi2, inv = False)\n",
    "        cv2.imwrite(\"./credit_card/test/\"+str(i)+\"./_2_\"+str(j)+\".jpg\", roi_otsu)\n",
    "        #cv2.imshow(\"otsu\", roi_otsu)\n",
    "        #print(\"-\")\n",
    "        #cv2.waitKey(0)\n",
    "cv2.destroyAllWindows()"
   ]
  },
  {
   "cell_type": "markdown",
   "metadata": {},
   "source": [
    "## Creating our Test Data (2000 variations of third font type)"
   ]
  },
  {
   "cell_type": "code",
   "execution_count": 6,
   "metadata": {},
   "outputs": [
    {
     "name": "stdout",
     "output_type": "stream",
     "text": [
      "Augmenting Digit -  0\n",
      "Augmenting Digit -  1\n",
      "Augmenting Digit -  2\n",
      "Augmenting Digit -  3\n",
      "Augmenting Digit -  4\n",
      "Augmenting Digit -  5\n",
      "Augmenting Digit -  6\n",
      "Augmenting Digit -  7\n",
      "Augmenting Digit -  8\n",
      "Augmenting Digit -  9\n"
     ]
    }
   ],
   "source": [
    "# Creating 2000 Images for each digit in creditcard_digits3 - Test DATA\n",
    "\n",
    "# Load our first image\n",
    "cc1 = cv2.imread('creditcard_digits3.jpg', 0)\n",
    "\n",
    "_, th2 = cv2.threshold(cc1, 0, 255, cv2.THRESH_BINARY_INV + cv2.THRESH_OTSU)\n",
    "cv2.imshow(\"cc1\", th2)\n",
    "cv2.imshow(\"creditcard_digits3\", cc1)\n",
    "cv2.waitKey(0)\n",
    "cv2.destroyAllWindows()\n",
    "\n",
    "region = [(8, 2), (62, 82)]\n",
    "\n",
    "top_left_y = region[0][1]\n",
    "bottom_right_y = region[1][1]\n",
    "top_left_x = region[0][0]\n",
    "bottom_right_x = region[1][0]\n",
    "\n",
    "for i in range(0,10):   \n",
    "    # We jump the next digit each time we loop\n",
    "    if 0<i<5:\n",
    "        top_left_x = top_left_x + 58\n",
    "        bottom_right_x = bottom_right_x + 58\n",
    "    elif i==5:\n",
    "        top_left_x = top_left_x + 66\n",
    "        bottom_right_x = bottom_right_x + 66\n",
    "    elif i>5:    \n",
    "        top_left_x = top_left_x + 55\n",
    "        bottom_right_x = bottom_right_x + 55\n",
    "\n",
    "    roi = cc1[top_left_y:bottom_right_y, top_left_x:bottom_right_x]\n",
    "    print(\"Augmenting Digit - \", str(i))\n",
    "    # We create 200 versions of each image for our dataset\n",
    "    for j in range(0,2000):\n",
    "        roi2 = DigitAugmentation(roi)\n",
    "        roi_otsu = pre_process(roi2, inv = True)\n",
    "        cv2.imwrite(\"./credit_card/test/\"+str(i)+\"./_3_\"+str(j)+\".jpg\", roi_otsu)\n",
    "cv2.destroyAllWindows()"
   ]
  },
  {
   "cell_type": "markdown",
   "metadata": {},
   "source": [
    "## Creating our Test Data (2000 variations of forth font type)"
   ]
  },
  {
   "cell_type": "code",
   "execution_count": 7,
   "metadata": {},
   "outputs": [
    {
     "name": "stdout",
     "output_type": "stream",
     "text": [
      "Augmenting Digit -  0\n",
      "Augmenting Digit -  1\n",
      "Augmenting Digit -  2\n",
      "Augmenting Digit -  3\n",
      "Augmenting Digit -  4\n",
      "Augmenting Digit -  5\n",
      "Augmenting Digit -  6\n",
      "Augmenting Digit -  7\n",
      "Augmenting Digit -  8\n",
      "Augmenting Digit -  9\n"
     ]
    }
   ],
   "source": [
    "# Creating 2000 Images for each digit in creditcard_digits4 - Test DATA\n",
    "\n",
    "# Load our first image\n",
    "cc1 = cv2.imread('creditcard_digits4.jpg', 0)\n",
    "\n",
    "_, th2 = cv2.threshold(cc1, 0, 255, cv2.THRESH_BINARY_INV + cv2.THRESH_OTSU)\n",
    "cv2.imshow(\"cc1\", th2)\n",
    "cv2.imshow(\"creditcard_digits4\", cc1)\n",
    "cv2.waitKey(0)\n",
    "cv2.destroyAllWindows()\n",
    "\n",
    "region = [(12, 2), (66, 88)]\n",
    "\n",
    "top_left_y = region[0][1]\n",
    "bottom_right_y = region[1][1]\n",
    "top_left_x = region[0][0]\n",
    "bottom_right_x = region[1][0]\n",
    "\n",
    "for i in range(0,10):   \n",
    "    # We jump the next digit each time we loop\n",
    "    if i > 0:\n",
    "        top_left_x = top_left_x + 57\n",
    "        bottom_right_x = bottom_right_x + 57\n",
    "\n",
    "\n",
    "    roi = cc1[top_left_y:bottom_right_y, top_left_x:bottom_right_x]\n",
    "    print(\"Augmenting Digit - \", str(i))\n",
    "    # We create 200 versions of each image for our dataset\n",
    "    for j in range(0,2000):\n",
    "        roi2 = DigitAugmentation(roi)\n",
    "        roi_otsu = pre_process(roi2, inv = True)\n",
    "        cv2.imwrite(\"./credit_card/test/\"+str(i)+\"./_4_\"+str(j)+\".jpg\", roi_otsu)\n",
    "cv2.destroyAllWindows()"
   ]
  },
  {
   "cell_type": "markdown",
   "metadata": {},
   "source": [
    "## Creating our Test Data (2000 variations of fifth font type)"
   ]
  },
  {
   "cell_type": "code",
   "execution_count": 8,
   "metadata": {},
   "outputs": [
    {
     "name": "stdout",
     "output_type": "stream",
     "text": [
      "Augmenting Digit -  0\n",
      "Augmenting Digit -  1\n",
      "Augmenting Digit -  2\n",
      "Augmenting Digit -  3\n",
      "Augmenting Digit -  4\n",
      "Augmenting Digit -  5\n",
      "Augmenting Digit -  6\n",
      "Augmenting Digit -  7\n",
      "Augmenting Digit -  8\n",
      "Augmenting Digit -  9\n"
     ]
    }
   ],
   "source": [
    "# Creating 2000 Images for each digit in creditcard_digits5 - Test DATA\n",
    "\n",
    "# Load our first image\n",
    "cc1 = cv2.imread('creditcard_digits5.jpg', 0)\n",
    "\n",
    "_, th2 = cv2.threshold(cc1, 0, 255, cv2.THRESH_BINARY_INV + cv2.THRESH_OTSU)\n",
    "cv2.imshow(\"cc1\", th2)\n",
    "cv2.imshow(\"creditcard_digits5\", cc1)\n",
    "cv2.waitKey(0)\n",
    "cv2.destroyAllWindows()\n",
    "\n",
    "region = [(4, 2), (64, 88)]\n",
    "\n",
    "top_left_y = region[0][1]\n",
    "bottom_right_y = region[1][1]\n",
    "top_left_x = region[0][0]\n",
    "bottom_right_x = region[1][0]\n",
    "\n",
    "for i in range(0,10):   \n",
    "    # We jump the next digit each time we loop\n",
    "    if i > 0:\n",
    "        top_left_x = top_left_x + 58\n",
    "        bottom_right_x = bottom_right_x + 58\n",
    "\n",
    "\n",
    "    roi = cc1[top_left_y:bottom_right_y, top_left_x:bottom_right_x]\n",
    "    print(\"Augmenting Digit - \", str(i))\n",
    "    # We create 200 versions of each image for our dataset\n",
    "    for j in range(0,2000):\n",
    "        roi2 = DigitAugmentation(roi)\n",
    "        roi_otsu = pre_process(roi2, inv = True)\n",
    "        cv2.imwrite(\"./credit_card/test/\"+str(i)+\"./_5_\"+str(j)+\".jpg\", roi_otsu)\n",
    "cv2.destroyAllWindows()"
   ]
  },
  {
   "cell_type": "markdown",
   "metadata": {},
   "source": [
    "# Creating the Classifier"
   ]
  },
  {
   "cell_type": "code",
   "execution_count": null,
   "metadata": {},
   "outputs": [],
   "source": [
    "import os\n",
    "import numpy as np\n",
    "from keras.models import Sequential\n",
    "from keras.layers import Activation, Dropout, Flatten, Dense\n",
    "from keras.preprocessing.image import ImageDataGenerator\n",
    "from roboflow import Roboflow\n",
    "from keras.layers import Conv2D, MaxPooling2D, ZeroPadding2D\n",
    "from keras import optimizers\n",
    "import keras\n",
    "\n",
    "input_shape = (32, 32, 3)\n",
    "img_width = 32\n",
    "img_height = 32\n",
    "num_classes = 10\n",
    "nb_train_samples = 10000\n",
    "nb_validation_samples = 10000\n",
    "rf = Roboflow(api_key=\"bLeDIGed220IyKA1cJKs\")\n",
    "project = rf.workspace().project(\"creditcard_number_detection\")\n",
    "batch_size = 16\n",
    "epochs = 1\n",
    "\n",
    "train_data_dir = './credit_card/train'\n",
    "validation_data_dir = './credit_card/test'\n",
    "\n",
    "# Creating our data generator for our test data\n",
    "validation_datagen = ImageDataGenerator(\n",
    "    # used to rescale the pixel values from [0, 255] to [0, 1] interval\n",
    "    rescale = 1./255)\n",
    "\n",
    "# Creating our data generator for our training data\n",
    "train_datagen = ImageDataGenerator(\n",
    "      rescale = 1./255,              # normalize pixel values to [0,1]\n",
    "      rotation_range = 10,           # randomly applies rotations\n",
    "      width_shift_range = 0.25,       # randomly applies width shifting\n",
    "      height_shift_range = 0.25,      # randomly applies height shifting\n",
    "      shear_range=0.5,\n",
    "      zoom_range=0.5,\n",
    "      horizontal_flip = False,        # randonly flips the image\n",
    "      fill_mode = 'nearest')         # uses the fill mode nearest to fill gaps created by the above\n",
    "\n",
    "# Specify criteria about our training data, such as the directory, image size, batch size and type \n",
    "# automagically retrieve images and their classes for train and validation sets\n",
    "train_generator = train_datagen.flow_from_directory(\n",
    "        train_data_dir,\n",
    "        target_size = (img_width, img_height),\n",
    "        batch_size = batch_size,\n",
    "        class_mode = 'categorical')\n",
    "\n",
    "validation_generator = validation_datagen.flow_from_directory(\n",
    "        validation_data_dir,\n",
    "        target_size = (img_width, img_height),\n",
    "        batch_size = batch_size,\n",
    "        class_mode = 'categorical',\n",
    "        shuffle = False)    "
   ]
  },
  {
   "cell_type": "markdown",
   "metadata": {},
   "source": [
    "## Creating out Model based on the LeNet CNN Architecture"
   ]
  },
  {
   "cell_type": "code",
   "execution_count": 4,
   "metadata": {},
   "outputs": [
    {
     "name": "stdout",
     "output_type": "stream",
     "text": [
      "Model: \"sequential\"\n",
      "_________________________________________________________________\n",
      " Layer (type)                Output Shape              Param #   \n",
      "=================================================================\n",
      " conv2d (Conv2D)             (None, 32, 32, 20)        1520      \n",
      "                                                                 \n",
      " activation (Activation)     (None, 32, 32, 20)        0         \n",
      "                                                                 \n",
      " max_pooling2d (MaxPooling2D  (None, 16, 16, 20)       0         \n",
      " )                                                               \n",
      "                                                                 \n",
      " conv2d_1 (Conv2D)           (None, 16, 16, 50)        25050     \n",
      "                                                                 \n",
      " activation_1 (Activation)   (None, 16, 16, 50)        0         \n",
      "                                                                 \n",
      " max_pooling2d_1 (MaxPooling  (None, 8, 8, 50)         0         \n",
      " 2D)                                                             \n",
      "                                                                 \n",
      " flatten (Flatten)           (None, 3200)              0         \n",
      "                                                                 \n",
      " dense (Dense)               (None, 500)               1600500   \n",
      "                                                                 \n",
      " activation_2 (Activation)   (None, 500)               0         \n",
      "                                                                 \n",
      " dense_1 (Dense)             (None, 10)                5010      \n",
      "                                                                 \n",
      " activation_3 (Activation)   (None, 10)                0         \n",
      "                                                                 \n",
      "=================================================================\n",
      "Total params: 1,632,080\n",
      "Trainable params: 1,632,080\n",
      "Non-trainable params: 0\n",
      "_________________________________________________________________\n",
      "None\n"
     ]
    }
   ],
   "source": [
    "# create model\n",
    "model = Sequential()\n",
    "\n",
    "# 2 sets of CRP (Convolution, RELU, Pooling)\n",
    "model.add(Conv2D(20, (5, 5),\n",
    "                 padding = \"same\", \n",
    "                 input_shape = input_shape))\n",
    "model.add(Activation(\"relu\"))\n",
    "model.add(MaxPooling2D(pool_size = (2, 2), strides = (2, 2)))\n",
    "\n",
    "model.add(Conv2D(50, (5, 5),\n",
    "                 padding = \"same\"))\n",
    "model.add(Activation(\"relu\"))\n",
    "model.add(MaxPooling2D(pool_size = (2, 2), strides = (2, 2)))\n",
    "\n",
    "# Fully connected layers (w/ RELU)\n",
    "model.add(Flatten())\n",
    "model.add(Dense(500))\n",
    "model.add(Activation(\"relu\"))\n",
    "\n",
    "# Softmax (for classification)\n",
    "model.add(Dense(num_classes))\n",
    "model.add(Activation(\"softmax\"))\n",
    "           \n",
    "model.compile(loss = 'categorical_crossentropy',\n",
    "              optimizer = keras.optimizers.Adadelta(),\n",
    "              metrics = ['accuracy'])\n",
    "    \n",
    "print(model.summary())"
   ]
  },
  {
   "cell_type": "markdown",
   "metadata": {},
   "source": [
    "## Training the Model"
   ]
  },
  {
   "cell_type": "code",
   "execution_count": 5,
   "metadata": {},
   "outputs": [
    {
     "name": "stderr",
     "output_type": "stream",
     "text": [
      "C:\\Users\\Hamid\\AppData\\Roaming\\Python\\Python310\\site-packages\\keras\\optimizers\\optimizer_v2\\rmsprop.py:135: UserWarning: The `lr` argument is deprecated, use `learning_rate` instead.\n",
      "  super(RMSprop, self).__init__(name, **kwargs)\n",
      "C:\\Users\\Hamid\\AppData\\Local\\Temp\\ipykernel_8312\\1620744920.py:29: UserWarning: `Model.fit_generator` is deprecated and will be removed in a future version. Please use `Model.fit`, which supports generators.\n",
      "  history = model.fit_generator(\n"
     ]
    },
    {
     "name": "stdout",
     "output_type": "stream",
     "text": [
      "Epoch 1/5\n",
      "1562/1562 [==============================] - ETA: 0s - loss: 0.4941 - accuracy: 0.8337\n",
      "Epoch 1: val_loss improved from inf to 0.01867, saving model to /home/deeplearningcv/DeepLearningCV/Trained Models\\creditcard.h5\n",
      "1562/1562 [==============================] - 197s 125ms/step - loss: 0.4941 - accuracy: 0.8337 - val_loss: 0.0187 - val_accuracy: 0.9926\n",
      "Epoch 2/5\n",
      "1562/1562 [==============================] - ETA: 0s - loss: 0.1877 - accuracy: 0.9374\n",
      "Epoch 2: val_loss improved from 0.01867 to 0.00381, saving model to /home/deeplearningcv/DeepLearningCV/Trained Models\\creditcard.h5\n",
      "1562/1562 [==============================] - 210s 134ms/step - loss: 0.1877 - accuracy: 0.9374 - val_loss: 0.0038 - val_accuracy: 0.9992\n",
      "Epoch 3/5\n",
      "1562/1562 [==============================] - ETA: 0s - loss: 0.1558 - accuracy: 0.9497\n",
      "Epoch 3: val_loss did not improve from 0.00381\n",
      "1562/1562 [==============================] - 171s 109ms/step - loss: 0.1558 - accuracy: 0.9497 - val_loss: 0.0758 - val_accuracy: 0.9888\n",
      "Epoch 4/5\n",
      "1562/1562 [==============================] - ETA: 0s - loss: 0.1410 - accuracy: 0.9562\n",
      "Epoch 4: val_loss did not improve from 0.00381\n",
      "1562/1562 [==============================] - 172s 110ms/step - loss: 0.1410 - accuracy: 0.9562 - val_loss: 0.0061 - val_accuracy: 0.9985\n",
      "Epoch 5/5\n",
      "1562/1562 [==============================] - ETA: 0s - loss: 0.1329 - accuracy: 0.9604Restoring model weights from the end of the best epoch: 2.\n",
      "\n",
      "Epoch 5: val_loss did not improve from 0.00381\n",
      "1562/1562 [==============================] - 202s 130ms/step - loss: 0.1329 - accuracy: 0.9604 - val_loss: 0.1163 - val_accuracy: 0.9862\n",
      "Epoch 5: early stopping\n"
     ]
    }
   ],
   "source": [
    "from keras.optimizers import RMSprop\n",
    "from keras.callbacks import ModelCheckpoint, EarlyStopping\n",
    "                   \n",
    "checkpoint = ModelCheckpoint(\"/home/deeplearningcv/DeepLearningCV/Trained Models/creditcard.h5\",\n",
    "                             monitor=\"val_loss\",\n",
    "                             mode=\"min\",\n",
    "                             save_best_only = True,\n",
    "                             verbose=1)\n",
    "\n",
    "earlystop = EarlyStopping(monitor = 'val_loss', \n",
    "                          min_delta = 0, \n",
    "                          patience = 3,\n",
    "                          verbose = 1,\n",
    "                          restore_best_weights = True)\n",
    "\n",
    "# we put our call backs into a callback list\n",
    "callbacks = [earlystop, checkpoint]\n",
    "\n",
    "# Note we use a very small learning rate \n",
    "model.compile(loss = 'categorical_crossentropy',\n",
    "              optimizer = RMSprop(lr = 0.001),\n",
    "              metrics = ['accuracy'])\n",
    "\n",
    "nb_train_samples = 100000\n",
    "nb_validation_samples = 100000\n",
    "epochs = 5\n",
    "batch_size = 64\n",
    "\n",
    "history = model.fit_generator(\n",
    "    train_generator,\n",
    "    steps_per_epoch = nb_train_samples // batch_size,\n",
    "    epochs = epochs,\n",
    "    callbacks = callbacks,\n",
    "    validation_data = validation_generator,\n",
    "    validation_steps = nb_validation_samples // batch_size)\n",
    "\n",
    "model.save(\"/home/deeplearningcv/DeepLearningCV/Trained Models/Digits_Detection.h5\")"
   ]
  },
  {
   "cell_type": "markdown",
   "metadata": {},
   "source": [
    "## Display model learning rate"
   ]
  },
  {
   "cell_type": "code",
   "execution_count": 6,
   "metadata": {},
   "outputs": [
    {
     "data": {
      "image/png": "[encoded data removed]",
      "text/plain": [
       "<Figure size 432x288 with 1 Axes>"
      ]
     },
     "metadata": {
      "needs_background": "light"
     },
     "output_type": "display_data"
    },
    {
     "data": {
      "image/png": "[encoded data removed]",
      "text/plain": [
       "<Figure size 432x288 with 1 Axes>"
      ]
     },
     "metadata": {
      "needs_background": "light"
     },
     "output_type": "display_data"
    }
   ],
   "source": [
    "import matplotlib.pyplot as plt\n",
    "accuracy = history.history[\"accuracy\"]\n",
    "val_accuracy = history.history[\"val_accuracy\"]\n",
    "loss = history.history[\"loss\"]\n",
    "val_loss = history.history[\"val_loss\"]\n",
    "epochs = range(1, len(accuracy) + 1)\n",
    "plt.plot(epochs, accuracy, \"bo\", label=\"Training accuracy\")\n",
    "plt.plot(epochs, val_accuracy, \"b\", label=\"Validation accuracy\")\n",
    "plt.title(\"Training and validation accuracy\")\n",
    "plt.legend()\n",
    "plt.figure()\n",
    "plt.plot(epochs, loss, \"bo\", label=\"Training loss\")\n",
    "plt.plot(epochs, val_loss, \"b\", label=\"Validation loss\")\n",
    "plt.title(\"Training and validation loss\")\n",
    "plt.legend()\n",
    "plt.show()"
   ]
  },
  {
   "cell_type": "markdown",
   "metadata": {},
   "source": [
    "## Loading the trained model\n",
    "### Predict Region of Interest by the model"
   ]
  },
  {
   "cell_type": "code",
   "execution_count": 33,
   "metadata": {},
   "outputs": [
    {
     "name": "stdout",
     "output_type": "stream",
     "text": [
      "{\n",
      "  \"x\": 102.0,\n",
      "  \"y\": 102.0,\n",
      "  \"width\": 168.0,\n",
      "  \"height\": 28.0,\n",
      "  \"confidence\": 0.8386157751083374,\n",
      "  \"class\": \"Digits\",\n",
      "  \"image_path\": \"test2.jpg\",\n",
      "  \"prediction_type\": \"ObjectDetectionModel\"\n",
      "}\n",
      "\n",
      "\n"
     ]
    }
   ],
   "source": [
    "from keras.models import load_model\n",
    "import keras\n",
    "\n",
    "classifier = load_model('/home/deeplearningcv/DeepLearningCV/Trained Models/Digits_Detection.h5')\n",
    "model = project.version(4).model\n",
    "# infer on a local image\n",
    "ROI=model.predict(\"test2.jpg\", confidence=40, overlap=30)\n",
    "print(ROI)"
   ]
  },
  {
   "cell_type": "markdown",
   "metadata": {},
   "source": [
    "# Extract the Region of Interest (ROI)"
   ]
  },
  {
   "cell_type": "code",
   "execution_count": 43,
   "metadata": {},
   "outputs": [
    {
     "data": {
      "text/plain": [
       "True"
      ]
     },
     "execution_count": 43,
     "metadata": {},
     "output_type": "execute_result"
    }
   ],
   "source": [
    "import cv2\n",
    "x,y,w,h=ROI[0]['x'],ROI[0]['y'],ROI[0]['width'],ROI[0]['height']\n",
    "w=int((w//2) +1)\n",
    "h= int((h//2) +1)\n",
    "y= int(y)\n",
    "x=int(x)\n",
    "image = cv2.imread('test2.jpg')\n",
    "image=image[y-h:y+h,x-w:x+w]\n",
    "\n",
    "cv2.imwrite(\"ROI.jpg\",image)"
   ]
  },
  {
   "cell_type": "markdown",
   "metadata": {},
   "source": [
    "# Image procssing functions"
   ]
  },
  {
   "cell_type": "code",
   "execution_count": null,
   "metadata": {},
   "outputs": [],
   "source": [
    "import tensorflow \n",
    "import keras  \n",
    "import os\n",
    "import cv2\n",
    "import glob\n",
    "import skimage\n",
    "from skimage import io \n",
    "import random \n",
    "import numpy as np\n",
    "import matplotlib.pyplot as plt  \n",
    "%matplotlib inline\n",
    "image = cv2.imread('ROI.jpg')\n",
    "gray_image = skimage.color.rgb2gray(image)\n",
    "#plt.imshow(gray_image, cmap = 'gray')\n",
    "\n",
    "# blur the image to denoise\n",
    "blurred_image = skimage.filters.gaussian(gray_image, sigma=1.0)\n",
    "\n",
    "#img=erosion\n",
    "kernel = np.ones((4,4),np.uint8)\n",
    "erosion = cv2.erode(blurred_image,kernel,iterations = 1)\n",
    "plt.imshow(erosion, interpolation='nearest')\n",
    "\n",
    "# perform automatic thresholding\n",
    "t = skimage.filters.threshold_otsu(binary_mask)\n",
    "binary_mask = erosion < t\n",
    "\n",
    "imgPath=binary_mask\n",
    "colorSpaceReduction=4\n",
    "color_reduced_img =cv2.imread(imgPath, cv2.IMREAD_GRAYSCALE) // colorSpaceReduction * colorSpaceReduction + colorSpaceReduction // 2\n",
    "#cv2.imshow(\"color reduced\",color_reduced_img)\n",
    "file_name = 'processed_ROI'+'.jpg'\n",
    "cv2.imwrite(file_name, color_reduced_img)"
   ]
  },
  {
   "attachments": {},
   "cell_type": "markdown",
   "metadata": {},
   "source": [
    "# examine the processed ROI to recignize credit card number"
   ]
  },
  {
   "cell_type": "code",
   "execution_count": 31,
   "metadata": {},
   "outputs": [
    {
     "name": "stdout",
     "output_type": "stream",
     "text": [
      "1/1 [==============================] - 0s 24ms/step\n",
      "1/1 [==============================] - 0s 26ms/step\n",
      "1/1 [==============================] - 0s 26ms/step\n",
      "1/1 [==============================] - 0s 26ms/step\n",
      "1/1 [==============================] - 0s 26ms/step\n",
      "1/1 [==============================] - 0s 24ms/step\n",
      "1/1 [==============================] - 0s 26ms/step\n",
      "1/1 [==============================] - 0s 24ms/step\n",
      "1/1 [==============================] - 0s 25ms/step\n",
      "1/1 [==============================] - 0s 24ms/step\n",
      "1/1 [==============================] - 0s 25ms/step\n",
      "1/1 [==============================] - 0s 26ms/step\n",
      "1/1 [==============================] - 0s 26ms/step\n",
      "1/1 [==============================] - 0s 26ms/step\n",
      "1/1 [==============================] - 0s 26ms/step\n",
      "1/1 [==============================] - 0s 25ms/step\n",
      "6104337870668645\n"
     ]
    }
   ],
   "source": [
    "import tensorflow as tf\n",
    "import cv2\n",
    "def x_cord_contour(contours):\n",
    "    #Returns the X cordinate for the contour centroid\n",
    "    if cv2.contourArea(contours) > 100:\n",
    "        M = cv2.moments(contours)\n",
    "        return (int(M['m10']/M['m00']))\n",
    "    else:\n",
    "        pass\n",
    "#img=binary_mask[1]\n",
    "img = cv2.imread('processed_ROI.jpg')\n",
    "orig_img = cv2.imread('Untitled.jpg')\n",
    "gray = cv2.cvtColor(img,cv2.COLOR_BGR2GRAY)\n",
    "cv2.imshow(\"image\", img)\n",
    "cv2.waitKey(0)\n",
    "\n",
    "# Blur image then find edges using Canny \n",
    "blurred = cv2.GaussianBlur(gray, (5, 5), 0)\n",
    "cv2.imshow(\"blurred\", blurred)\n",
    "cv2.waitKey(0)\n",
    "\n",
    "#edged = cv2.Canny(blurred, 240, 250)\n",
    "#cv2.imshow(\"edged\", edged)\n",
    "#cv2.waitKey(0)\n",
    "\n",
    "# Find Contours\n",
    "ret, thresh = cv2.threshold(gray, 250, 255, cv2.THRESH_OTSU | cv2.THRESH_BINARY_INV)\n",
    "contours, _ = cv2.findContours(thresh.copy(), cv2.RETR_EXTERNAL, cv2.CHAIN_APPROX_SIMPLE)\n",
    "\n",
    "#Sort out contours left to right by using their x cordinates\n",
    "contours = sorted(contours, key=cv2.contourArea, reverse=True)[:16] \n",
    "contours = sorted(contours, key = x_cord_contour, reverse = False)\n",
    "\n",
    "# Create empty array to store entire number\n",
    "full_number = []\n",
    "\n",
    "# loop over the contours\n",
    "for c in contours:\n",
    "    # compute the bounding box for the rectangle\n",
    "    (x, y, w, h) = cv2.boundingRect(c) \n",
    "    #print(x, y, w, h)\n",
    "    if w >= 1 and h >= 16 and cv2.contourArea(c) < 8000:\n",
    "        roi = blurred[y:y + h, x:x + w]\n",
    "        #ret, roi = cv2.threshold(roi, 20, 255,cv2.THRESH_BINARY_INV)\n",
    "        #cv2.imshow(\"ROI1\", roi)\n",
    "        roi_otsu = pre_process(roi, True)\n",
    "        #cv2.imshow(\"ROI2\", roi_otsu)\n",
    "        roi_otsu = cv2.cvtColor(roi_otsu, cv2.COLOR_GRAY2RGB)\n",
    "        roi_otsu = tf.keras.preprocessing.image.img_to_array(roi_otsu)\n",
    "        roi_otsu = roi_otsu * 1./255\n",
    "        roi_otsu = np.expand_dims(roi_otsu, axis=0)\n",
    "        image = np.vstack([roi_otsu])\n",
    "        #label = str(classifier.predict_classes(image, batch_size = 10))[1]\n",
    "        predict_x=classifier.predict(image, batch_size = 10)[0]\n",
    "        #predict_x=model.predict(image, batch_size = 10)[0]\n",
    "        classes_x=np.argmax(predict_x,axis=0)\n",
    "        label=str(classes_x)\n",
    "        #print(label)\n",
    "        full_number.append(label)\n",
    "        (x, y, w, h) = (x+(3*19), y+(3*88), w, h)\n",
    "        # resize image\n",
    "        cv2.rectangle(orig_img, (x, y), (x + w, y + h), (0, 255, 0), 2)\n",
    "        cv2.putText(orig_img, label, (x , y), cv2.FONT_HERSHEY_COMPLEX, 2, (255, 0, 0), 2)\n",
    "        cv2.imshow(\"image\", orig_img)\n",
    "        cv2.waitKey(0) \n",
    "        #HERSHEY_COMPLEX\n",
    "cv2.destroyAllWindows()\n",
    "\n",
    "card_number=\"\"\n",
    "for i in range(16):\n",
    "    card_number=card_number+str(full_number[i])\n",
    "    \n",
    "print(card_number)"
   ]
  },
  {
   "cell_type": "code",
   "execution_count": 23,
   "metadata": {},
   "outputs": [],
   "source": [
    "# draw contours on the original image\n",
    "image_copy = image.copy()\n",
    "cv2.drawContours(image=image_copy, contours=contours, contourIdx=-1, color=(0, 255, 0), thickness=2, lineType=cv2.LINE_AA)\n",
    "                \n",
    "# see the results\n",
    "cv2.imshow('Founded contours', image_copy)\n",
    "cv2.waitKey(0)\n",
    "cv2.imwrite('contours_none_image1.jpg', image_copy)\n",
    "cv2.destroyAllWindows()"
   ]
  },
  {
   "cell_type": "code",
   "execution_count": 26,
   "metadata": {},
   "outputs": [
    {
     "data": {
      "text/plain": [
       "(0.0, 1.0)"
      ]
     },
     "execution_count": 26,
     "metadata": {},
     "output_type": "execute_result"
    },
    {
     "data": {
      "image/png": "[encoded data removed]",
      "text/plain": [
       "<Figure size 432x288 with 1 Axes>"
      ]
     },
     "metadata": {
      "needs_background": "light"
     },
     "output_type": "display_data"
    }
   ],
   "source": [
    "# create a histogram of the blurred grayscale image\n",
    "histogram, bin_edges = np.histogram(color_reduced_img, bins=256, range=(0.0, 1.0))\n",
    "\n",
    "fig, ax = plt.subplots()\n",
    "plt.plot(bin_edges[0:-1], histogram)\n",
    "plt.title(\"Grayscale Histogram\")\n",
    "plt.xlabel(\"grayscale value\")\n",
    "plt.ylabel(\"pixels\")\n",
    "plt.xlim(0, 1.0)"
   ]
  },
  {
   "cell_type": "code",
   "execution_count": 68,
   "metadata": {},
   "outputs": [
    {
     "data": {
      "text/plain": [
       "<matplotlib.image.AxesImage at 0x243cf3e28c0>"
      ]
     },
     "execution_count": 68,
     "metadata": {},
     "output_type": "execute_result"
    },
    {
     "data": {
      "image/png": "[encoded data removed]",
      "text/plain": [
       "<Figure size 432x288 with 1 Axes>"
      ]
     },
     "metadata": {
      "needs_background": "light"
     },
     "output_type": "display_data"
    }
   ],
   "source": [
    "# create a mask based on the threshold\n",
    "t = 0.6\n",
    "binary_mask = image < t\n",
    "\n",
    "fig, ax = plt.subplots()\n",
    "plt.imshow(binary_mask, cmap=\"gray\")"
   ]
  },
  {
   "cell_type": "code",
   "execution_count": 17,
   "metadata": {},
   "outputs": [],
   "source": [
    "#matplotlib.image.imsave('binary_mask.jpeg', binary_mask)\n",
    "plt.imsave('binary_mask.jpeg', binary_mask)"
   ]
  },
  {
   "cell_type": "code",
   "execution_count": 19,
   "metadata": {},
   "outputs": [
    {
     "name": "stdout",
     "output_type": "stream",
     "text": [
      "Found automatic threshold t = 0.001953125.\n"
     ]
    },
    {
     "name": "stderr",
     "output_type": "stream",
     "text": [
      "<__array_function__ internals>:180: RuntimeWarning: Converting input from bool to <class 'numpy.uint8'> for compatibility.\n"
     ]
    }
   ],
   "source": [
    "# perform automatic thresholding\n",
    "t = skimage.filters.threshold_otsu(binary_mask)\n",
    "print(\"Found automatic threshold t = {}.\".format(t))\n"
   ]
  }
 ],
 "metadata": {
  "kernelspec": {
   "display_name": "Python 3 (ipykernel)",
   "language": "python",
   "name": "python3"
  },
  "language_info": {
   "codemirror_mode": {
    "name": "ipython",
    "version": 3
   },
   "file_extension": ".py",
   "mimetype": "text/x-python",
   "name": "python",
   "nbconvert_exporter": "python",
   "pygments_lexer": "ipython3",
   "version": "3.10.5"
  },
  "vscode": {
   "interpreter": {
    "hash": "369f9e78cac6e66297a944593a4d899a1291f5bbf8049e95c9e073829b3110d8"
   }
  }
 },
 "nbformat": 4,
 "nbformat_minor": 2
}
